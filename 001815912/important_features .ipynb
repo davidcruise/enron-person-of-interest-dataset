{
 "cells": [
  {
   "cell_type": "code",
   "execution_count": 1,
   "metadata": {},
   "outputs": [],
   "source": [
    "#!/usr/bin/python\n",
    "\n",
    "import sys\n",
    "import pickle\n",
    "sys.path.append(\"../tools/\")\n",
    "from tester import test_classifier\n",
    "\n",
    "from feature_format import featureFormat, targetFeatureSplit\n",
    "from tester import dump_classifier_and_data\n",
    "\n",
    "### Task 1: Select what features you'll use.\n",
    "### features_list is a list of strings, each of which is a feature name.\n",
    "### The first feature must be \"poi\".\n",
    "\n",
    "\n",
    "\n",
    "\n",
    "\n",
    "features_list = ['poi','salary', 'to_messages', 'deferral_payments', 'total_payments', 'loan_advances', 'bonus', \n",
    "                 'restricted_stock_deferred', 'deferred_income', 'total_stock_value', 'expenses', \n",
    "                 'from_poi_to_this_person', 'exercised_stock_options', 'from_messages', 'other', 'from_this_person_to_poi',\n",
    "                 'long_term_incentive', 'shared_receipt_with_poi', 'restricted_stock', 'director_fees'\n",
    "                     ,'fraction_from_poi'\n",
    "                   , 'fraction_to_poi'\n",
    "                 ,'shared_poi_ratio'\n",
    "                ] \n",
    "\n",
    "\n",
    "### Load the dictionary containing the dataset\n",
    "with open(\"final_project_dataset.pkl\", \"rb\") as data_file:\n",
    "    data_dict = pickle.load(data_file)\n",
    "\n",
    "\n",
    "del data_dict['LOCKHART EUGENE E']\n",
    "\n",
    "data_dict['BELFER ROBERT'] = {\n",
    "        'bonus': 'NaN',\n",
    "        'deferral_payments': 'NaN',\n",
    "        'deferred_income': -102500,\n",
    "        'director_fees': 102500,\n",
    "        'email_address': 'NaN',\n",
    "        'exercised_stock_options': 'NaN',\n",
    "        'expenses': 3285,\n",
    "        'from_messages': 'NaN',\n",
    "        'from_poi_to_this_person': 'NaN',\n",
    "        'from_this_person_to_poi': 'NaN',\n",
    "        'loan_advances': 'NaN',\n",
    "        'long_term_incentive': 'NaN',\n",
    "        'other': 'NaN',\n",
    "        'poi': False,\n",
    "        'restricted_stock': -44093,\n",
    "        'restricted_stock_deferred': 44093,\n",
    "        'salary': 'NaN',\n",
    "        'shared_receipt_with_poi': 'NaN',\n",
    "        'to_messages': 'NaN',\n",
    "        'total_payments': 3285,\n",
    "        'total_stock_value': 'NaN'\n",
    "}\n",
    "\n",
    "data_dict['BHATNAGAR SANJAY'] = {\n",
    "        'bonus': 'NaN',\n",
    "        'deferral_payments': 'NaN',\n",
    "        'deferred_income': 'NaN',\n",
    "        'director_fees': 'NaN',\n",
    "        'email_address': 'sanjay.bhatnagar@enron.com',\n",
    "        'exercised_stock_options': 15456290,\n",
    "        'expenses': 137864,\n",
    "        'from_messages': 29,\n",
    "        'from_poi_to_this_person': 0,\n",
    "        'from_this_person_to_poi': 1,\n",
    "        'loan_advances': 'NaN',\n",
    "        'long_term_incentive': 'NaN',\n",
    "        'other': 'NaN',\n",
    "        'poi': False,\n",
    "        'restricted_stock': 2604490,\n",
    "        'restricted_stock_deferred': -2604490,\n",
    "        'salary': 'NaN',\n",
    "        'shared_receipt_with_poi': 463,\n",
    "        'to_messages': 523,\n",
    "        'total_payments': 137864,\n",
    "        'total_stock_value': 15456290\n",
    "}    \n",
    "    \n",
    "    \n",
    "\n",
    "# ### Task 2: Remove outliers\n",
    "import numpy as np\n",
    "import pandas as pd \n",
    "df = pd.DataFrame.from_dict(data_dict, orient = 'index')\n",
    "df = df.drop(columns = \"email_address\")\n",
    "df = df.replace('NaN', np.nan)\n",
    "\n",
    "\n",
    "df = df.drop(['TOTAL', 'LAVORATO JOHN J', 'MCMAHON JEFFREY', 'FREVERT MARK A', 'LAVORATO JOHN J', 'WHALLEY LAWRENCE G', 'BAXTER JOHN C'],0)\n",
    "\n",
    "\n",
    "df['from_poi_to_this_person'] = df['from_poi_to_this_person'].fillna(0)\n",
    "df['from_this_person_to_poi'] = df['from_this_person_to_poi'].fillna(0)\n",
    "df['shared_receipt_with_poi'] = df['shared_receipt_with_poi'].fillna(0)\n",
    "\n",
    "df['fraction_from_poi'] = df['from_poi_to_this_person'].divide(df['to_messages'], fill_value=df['to_messages'].mean())\n",
    "df['fraction_to_poi'] = df['from_this_person_to_poi'].divide(df['from_messages'], fill_value=df['from_messages'].mean()) \n",
    "df['shared_poi_ratio'] = df['shared_receipt_with_poi'].divide(df['to_messages'], fill_value=df['to_messages'].mean())\n",
    "\n",
    "\n",
    "df = df.fillna(0)\n",
    "\n",
    "data_dict = df.to_dict(orient='index')\n"
   ]
  },
  {
   "cell_type": "code",
   "execution_count": 2,
   "metadata": {},
   "outputs": [
    {
     "name": "stdout",
     "output_type": "stream",
     "text": [
      "DecisionTreeClassifier(class_weight=None, criterion='gini', max_depth=None,\n",
      "                       max_features=None, max_leaf_nodes=None,\n",
      "                       min_impurity_decrease=0.0, min_impurity_split=None,\n",
      "                       min_samples_leaf=1, min_samples_split=2,\n",
      "                       min_weight_fraction_leaf=0.0, presort=False,\n",
      "                       random_state=None, splitter='best')\n",
      "\tAccuracy: 0.81779\tPrecision: 0.36246\tRecall: 0.36300\tF1: 0.36273\tF2: 0.36289\n",
      "\tTotal predictions: 14000\tTrue positives:  726\tFalse positives: 1277\tFalse negatives: 1274\tTrue negatives: 10723\n",
      "\n"
     ]
    }
   ],
   "source": [
    "\n",
    "### Store to my_dataset for easy export below.\n",
    "my_dataset = data_dict\n",
    "\n",
    "### Extract features and labels from dataset for local testing\n",
    "data = featureFormat(my_dataset, features_list, sort_keys = True)\n",
    "\n",
    "labels, features = targetFeatureSplit(data)\n",
    "\n",
    "### Task 4: Try a varity of classifiers\n",
    "### Please name your classifier clf for easy export below.\n",
    "### Note that if you want to do PCA or other multi-stage operations,\n",
    "### you'll need to use Pipelines. For more info:\n",
    "### http://scikit-learn.org/stable/modules/pipeline.html\n",
    "\n",
    "# Provided to give you a starting point. Try a variety of classifiers.\n",
    "\n",
    "\n",
    "\n",
    "from sklearn.tree import DecisionTreeClassifier\n",
    "clf = DecisionTreeClassifier()\n",
    "\n",
    "### Task 5: Tune your classifier to achieve better than .3 precision and recall \n",
    "### using our testing script. Check the tester.py script in the final project\n",
    "### folder for details on the evaluation method, especially the test_classifier\n",
    "### function. Because of the small size of the dataset, the script uses\n",
    "### stratified shuffle split cross validation. For more info: \n",
    "### http://scikit-learn.org/stable/modules/generated/sklearn.cross_validation.StratifiedShuffleSplit.html\n",
    "\n",
    "# Example starting point. Try investigating other evaluation techniques!\n",
    "from sklearn.model_selection import train_test_split\n",
    "features_train, features_test, labels_train, labels_test = \\\n",
    "    train_test_split(features, labels, test_size=0.1, random_state=20)\n",
    "\n",
    "### Task 6: Dump your classifier, dataset, and features_list so anyone can\n",
    "### check your results. You do not need to change anything below, but make sure\n",
    "### that the version of poi_id.py that you submit can be run on its own and\n",
    "### generates the necessary .pkl files for validating your results.\n",
    "\n",
    "test_classifier(clf, my_dataset, features_list)"
   ]
  },
  {
   "cell_type": "code",
   "execution_count": 3,
   "metadata": {},
   "outputs": [
    {
     "data": {
      "text/plain": [
       "array([0.        , 0.        , 0.        , 0.        , 0.        ,\n",
       "       0.29953811, 0.        , 0.        , 0.06699906, 0.26860802,\n",
       "       0.        , 0.04778287, 0.        , 0.03511317, 0.        ,\n",
       "       0.        , 0.        , 0.13792909, 0.        , 0.        ,\n",
       "       0.03583716, 0.10819251])"
      ]
     },
     "execution_count": 3,
     "metadata": {},
     "output_type": "execute_result"
    }
   ],
   "source": [
    "clf.feature_importances_"
   ]
  },
  {
   "cell_type": "code",
   "execution_count": 4,
   "metadata": {},
   "outputs": [
    {
     "name": "stdout",
     "output_type": "stream",
     "text": [
      "['poi', 'bonus', 'expenses', 'other', 'restricted_stock']\n"
     ]
    }
   ],
   "source": [
    "features_list = ['poi', 'bonus', 'expenses', \n",
    "                   'other', \n",
    "                  'restricted_stock',\n",
    "                 ]\n",
    "print(features_list)"
   ]
  },
  {
   "cell_type": "code",
   "execution_count": 5,
   "metadata": {},
   "outputs": [
    {
     "data": {
      "text/plain": [
       "array([26.01782232,  2.38641979,  0.06550224, 10.20140628,  7.00482086,\n",
       "       38.31889767,  0.77516572, 16.90801405, 24.61750697,  6.25639114,\n",
       "       11.97997853, 23.87381477,  0.13803978,  7.80899186,  3.38193621,\n",
       "       12.85402855, 12.89366115,  9.99737732,  2.20982068,  3.51574043,\n",
       "       17.9149898 , 10.22946678])"
      ]
     },
     "execution_count": 5,
     "metadata": {},
     "output_type": "execute_result"
    }
   ],
   "source": [
    "from sklearn.feature_selection import SelectKBest, f_classif\n",
    "\n",
    "features_list = ['poi','salary', 'to_messages', 'deferral_payments', 'total_payments', 'loan_advances', 'bonus', \n",
    "                 'restricted_stock_deferred', 'deferred_income', 'total_stock_value', 'expenses', \n",
    "                 'from_poi_to_this_person', 'exercised_stock_options', 'from_messages', 'other', 'from_this_person_to_poi',\n",
    "                 'long_term_incentive', 'shared_receipt_with_poi', 'restricted_stock', 'director_fees'\n",
    "                     ,'fraction_from_poi'\n",
    "                   , 'fraction_to_poi'\n",
    "                 ,'shared_poi_ratio'\n",
    "                ] \n",
    "\n",
    "data = featureFormat(my_dataset, features_list, sort_keys = True)\n",
    "labels, features = targetFeatureSplit(data)\n",
    "\n",
    "# Perform feature selection\n",
    "selector = SelectKBest(f_classif, k=5)\n",
    "selector.fit(features, labels)\n",
    "\n",
    "selector.scores_"
   ]
  },
  {
   "cell_type": "code",
   "execution_count": 6,
   "metadata": {},
   "outputs": [
    {
     "name": "stdout",
     "output_type": "stream",
     "text": [
      "salary\n",
      "bonus\n",
      "total_stock_value\n",
      "exercised_stock_options\n",
      "fraction_to_poi\n"
     ]
    }
   ],
   "source": [
    "list=features_list[1:]\n",
    "for i in [0,5,8,11,20]:\n",
    "    print(list[i])"
   ]
  },
  {
   "cell_type": "code",
   "execution_count": null,
   "metadata": {},
   "outputs": [],
   "source": []
  }
 ],
 "metadata": {
  "kernelspec": {
   "display_name": "Python 3",
   "language": "python",
   "name": "python3"
  },
  "language_info": {
   "codemirror_mode": {
    "name": "ipython",
    "version": 3
   },
   "file_extension": ".py",
   "mimetype": "text/x-python",
   "name": "python",
   "nbconvert_exporter": "python",
   "pygments_lexer": "ipython3",
   "version": "3.7.4"
  }
 },
 "nbformat": 4,
 "nbformat_minor": 4
}
